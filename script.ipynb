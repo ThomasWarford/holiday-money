{
 "cells": [
  {
   "cell_type": "code",
   "execution_count": 7,
   "metadata": {},
   "outputs": [],
   "source": [
    "def holidayExpenses():\n",
    "    people = inputter()\n",
    "    total = 0\n",
    "    payments=[]\n",
    "    for person in people:\n",
    "        total += person[1]\n",
    "    target = total / len(people)\n",
    "    for person in people:\n",
    "            person[1] = person[1] - target\n",
    "    print(target)\n",
    "    print(people)\n",
    "    while len(people) > 0:\n",
    "        people.sort(key= lambda x: x[1])\n",
    "        for person in people:\n",
    "            if person[1] == 0:\n",
    "                people.remove(person)\n",
    "        var = people[0][1] + people[-1][1]\n",
    "        if var < 0:\n",
    "            people[0][1] = var\n",
    "            print(f'{people[0][0]} pays {people[-1][0]} {people[-1][1]}.')\n",
    "            people[-1][1] = 0\n",
    "        elif var > 0:\n",
    "            people[-1][1] = var\n",
    "            print(f'{people[0][0]} pays {people[-1][0]} {abs(people[0][1])}')\n",
    "            people[0][1] = 0\n",
    "        else:\n",
    "            print(f'{people[0][0]} pays {people[-1][0]} {abs(people[0][1])}')\n",
    "            break\n",
    "        print(people)"
   ]
  },
  {
   "cell_type": "code",
   "execution_count": 8,
   "metadata": {},
   "outputs": [],
   "source": [
    "def inputter():\n",
    "    people = []\n",
    "    response = 'y'\n",
    "    while response == 'y':\n",
    "        response = input('Would you like to add another person? y/n: ')\n",
    "        if response == 'y':\n",
    "            name = input('Enter name:')\n",
    "            money = float(input(f'Enter amount of money {name} spent:'))\n",
    "            people.append([name, money])\n",
    "    return people"
   ]
  },
  {
   "cell_type": "code",
   "execution_count": 9,
   "metadata": {},
   "outputs": [
    {
     "name": "stdout",
     "output_type": "stream",
     "text": [
      "Would you like to add another person? y/n: y\n",
      "Enter name:Jimmy\n",
      "Enter amount of money Jimmy spent:65\n",
      "Would you like to add another person? y/n: y\n",
      "Enter name:Alex\n",
      "Enter amount of money Alex spent:80\n",
      "Would you like to add another person? y/n: y\n",
      "Enter name:Luca\n",
      "Enter amount of money Luca spent:85\n",
      "Would you like to add another person? y/n: y\n",
      "Enter name:Oliver\n",
      "Enter amount of money Oliver spent:60\n",
      "Would you like to add another person? y/n: y\n",
      "Enter name:Thomas\n",
      "Enter amount of money Thomas spent:20\n",
      "Would you like to add another person? y/n: n\n",
      "62.0\n",
      "[['Jimmy', 3.0], ['Alex', 18.0], ['Luca', 23.0], ['Oliver', -2.0], ['Thomas', -42.0]]\n",
      "Thomas pays Luca 23.0.\n",
      "[['Thomas', -19.0], ['Oliver', -2.0], ['Jimmy', 3.0], ['Alex', 18.0], ['Luca', 0]]\n",
      "Thomas pays Alex 18.0.\n",
      "[['Thomas', -1.0], ['Oliver', -2.0], ['Jimmy', 3.0], ['Alex', 0]]\n",
      "Oliver pays Jimmy 2.0\n",
      "[['Oliver', 0], ['Thomas', -1.0], ['Jimmy', 1.0]]\n",
      "Thomas pays Jimmy 1.0\n"
     ]
    }
   ],
   "source": [
    "holidayExpenses()"
   ]
  }
 ],
 "metadata": {
  "kernelspec": {
   "display_name": "Python 3",
   "language": "python",
   "name": "python3"
  },
  "language_info": {
   "codemirror_mode": {
    "name": "ipython",
    "version": 3
   },
   "file_extension": ".py",
   "mimetype": "text/x-python",
   "name": "python",
   "nbconvert_exporter": "python",
   "pygments_lexer": "ipython3",
   "version": "3.7.6"
  }
 },
 "nbformat": 4,
 "nbformat_minor": 4
}
